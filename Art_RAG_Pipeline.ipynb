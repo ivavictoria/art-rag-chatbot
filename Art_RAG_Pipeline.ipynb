{
 "cells": [
  {
   "cell_type": "code",
   "execution_count": 10,
   "id": "d12b590b-ccfb-475b-9ab2-c152a66ea555",
   "metadata": {},
   "outputs": [
    {
     "name": "stdout",
     "output_type": "stream",
     "text": [
      "                                               image  \\\n",
      "0  {'bytes': b'\\xff\\xd8\\xff\\xe0\\x00\\x10JFIF\\x00\\x...   \n",
      "1  {'bytes': b'\\xff\\xd8\\xff\\xe0\\x00\\x10JFIF\\x00\\x...   \n",
      "2  {'bytes': b'\\xff\\xd8\\xff\\xe0\\x00\\x10JFIF\\x00\\x...   \n",
      "3  {'bytes': b'\\xff\\xd8\\xff\\xe0\\x00\\x10JFIF\\x00\\x...   \n",
      "4  {'bytes': b'\\xff\\xd8\\xff\\xe0\\x00\\x10JFIF\\x00\\x...   \n",
      "\n",
      "                                             text               style  \n",
      "0   the cover of the book the magician's daughter  art-nouveau-modern  \n",
      "1               the adoration of the holy trinity             baroque  \n",
      "2  a painting of a man on horseback with two dogs  art-nouveau-modern  \n",
      "3          a painting of a woman in a white dress             baroque  \n",
      "4           a painting of a woman laying on a bed       expressionism  \n"
     ]
    }
   ],
   "source": [
    "# This requires two dependencies: langchain and langchain_aws\n",
    "# You also need datasets to use the wikiart-subject dataset\n",
    "# pip install langchain langchain_aws datasets\n",
    "\n",
    "# Available models:\n",
    "# amazon.titan-embed-text-v1\n",
    "# amazon.titan-embed-image-v1\n",
    "# anthropic.claude-3-5-sonnet-20240620-v1:0\n",
    "# cohere.embed-multilingual-v3\n",
    "# meta.llama3-70b-instruct-v1:0\n",
    "\n",
    "import boto3\n",
    "from langchain_aws.chat_models.bedrock import ChatBedrock\n",
    "from langchain_aws.embeddings.bedrock import BedrockEmbeddings\n",
    "from datasets import load_dataset\n",
    "import os\n",
    "import pandas as pd\n",
    "\n",
    "# Load the dataset:\n",
    "# https://huggingface.co/datasets/jlbaker361/wikiart-subjects\n",
    "full_dataset = load_dataset(\"jlbaker361/wikiart-subjects\")\n",
    "\n",
    "# For development, let's use a smaller subset of the full dataset, since it's quite large (815MB)\n",
    "# Let's take a 5% random sample from the \"train\" split.\n",
    "#small_dataset = full_dataset[\"train\"].train_test_split(test_size=0.05)[\"test\"]\n",
    "\n",
    "# Optionally, if we set also a seed, we'll get the same subset each time; the consistency can be handy for testing & debugging.\n",
    "small_dataset = full_dataset[\"train\"].train_test_split(test_size=0.05, seed=42)[\"test\"]\n",
    "\n",
    "# Just to see that the data is there, convert it to DataFrame and display the first few rows\n",
    "small_dataset_df = small_dataset.to_pandas()\n",
    "print(small_dataset_df.head())  # Display the first 5 rows"
   ]
  },
  {
   "cell_type": "code",
   "execution_count": 7,
   "id": "2d302793-f5f4-4f13-9d67-e0a43525179c",
   "metadata": {},
   "outputs": [],
   "source": [
    "# Start a session with AWS via the Boto3 Python SDK.\n",
    "session = boto3.Session(\n",
    "  aws_access_key_id='[AWS_ACCESS_KEY_ID]',\n",
    "  aws_secret_access_key='[AWS_SECRET_ACCESS_KEY]',\n",
    "  region_name='us-east-1'\n",
    ")\n",
    "\n",
    "client = session.client('bedrock-runtime')"
   ]
  },
  {
   "cell_type": "code",
   "execution_count": null,
   "id": "1cff6cd6-8983-42eb-8cf3-27d1c2bcba9d",
   "metadata": {},
   "outputs": [],
   "source": []
  },
  {
   "cell_type": "code",
   "execution_count": null,
   "id": "3a14e0f5-8112-4695-a3c2-67ec9f45593f",
   "metadata": {},
   "outputs": [],
   "source": []
  }
 ],
 "metadata": {
  "kernelspec": {
   "display_name": "Python 3 (ipykernel)",
   "language": "python",
   "name": "python3"
  },
  "language_info": {
   "codemirror_mode": {
    "name": "ipython",
    "version": 3
   },
   "file_extension": ".py",
   "mimetype": "text/x-python",
   "name": "python",
   "nbconvert_exporter": "python",
   "pygments_lexer": "ipython3",
   "version": "3.12.6"
  }
 },
 "nbformat": 4,
 "nbformat_minor": 5
}
