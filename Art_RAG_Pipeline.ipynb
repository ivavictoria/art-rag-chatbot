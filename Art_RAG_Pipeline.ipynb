{
 "cells": [
  {
   "cell_type": "code",
   "execution_count": null,
   "id": "9cbae8c9-d6bf-4c4f-9c34-7dc906aa4545",
   "metadata": {},
   "outputs": [],
   "source": [
    "# This requires two dependencies: langchain and langchain_aws\n",
    "# You also need datasets to use the wikiart-subject dataset\n",
    "# pip install langchain langchain_aws datasets\n",
    "\n",
    "# Available models:\n",
    "# amazon.titan-embed-text-v1\n",
    "# amazon.titan-embed-image-v1\n",
    "# anthropic.claude-3-5-sonnet-20240620-v1:0\n",
    "# cohere.embed-multilingual-v3\n",
    "# meta.llama3-70b-instruct-v1:0\n",
    "\n",
    "import boto3\n",
    "from langchain_aws.chat_models.bedrock import ChatBedrock\n",
    "from langchain_aws.embeddings.bedrock import BedrockEmbeddings\n",
    "from datasets import load_dataset\n",
    "import os\n",
    "\n",
    "# Load the dataset:\n",
    "# https://huggingface.co/datasets/jlbaker361/wikiart-subjects\n",
    "full_dataset = load_dataset(\"jlbaker361/wikiart-subjects\")\n",
    "\n",
    "# For development, let's use a smaller subset of the full dataset, since it's quite large (815MB)\n",
    "# Let's take a 5% random sample from the \"train\" split.\n",
    "#small_dataset = full_dataset[\"train\"].train_test_split(test_size=0.05)[\"test\"]\n",
    "\n",
    "# Optionally, if we set also a seed, we'll get the same subset each time; the consistency can be handy for testing & debugging.\n",
    "small_dataset = full_dataset[\"train\"].train_test_split(test_size=0.05, seed=42)[\"test\"]\n",
    "\n",
    "session = boto3.Session(\n",
    "  aws_access_key_id='[AWS_ACCESS_KEY_ID]',\n",
    "  aws_secret_access_key='[AWS_SECRET_ACCESS_KEY]',\n",
    "  region_name='us-east-1'\n",
    ")\n",
    "\n",
    "client = session.client('bedrock-runtime')"
   ]
  }
 ],
 "metadata": {
  "kernelspec": {
   "display_name": "Python 3 (ipykernel)",
   "language": "python",
   "name": "python3"
  },
  "language_info": {
   "codemirror_mode": {
    "name": "ipython",
    "version": 3
   },
   "file_extension": ".py",
   "mimetype": "text/x-python",
   "name": "python",
   "nbconvert_exporter": "python",
   "pygments_lexer": "ipython3",
   "version": "3.12.6"
  }
 },
 "nbformat": 4,
 "nbformat_minor": 5
}
